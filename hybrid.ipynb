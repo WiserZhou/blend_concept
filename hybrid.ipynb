{
 "cells": [
  {
   "cell_type": "code",
   "execution_count": 1,
   "metadata": {},
   "outputs": [
    {
     "name": "stdout",
     "output_type": "stream",
     "text": [
      "\u001b[1m\u001b[37mmercury            \u001b[m  Sat Nov  2 12:44:27 2024  \u001b[1m\u001b[30m535.183.01\u001b[m\n",
      "\u001b[36m[0]\u001b[m \u001b[34mNVIDIA RTX A6000\u001b[m |\u001b[31m 32'C\u001b[m, \u001b[32m  0 %\u001b[m | \u001b[36m\u001b[1m\u001b[33m24765\u001b[m / \u001b[33m49140\u001b[m MB | \u001b[1m\u001b[30mtaokeda\u001b[m(\u001b[33m24296M\u001b[m)\n",
      "\u001b[36m[1]\u001b[m \u001b[34mNVIDIA RTX A6000\u001b[m |\u001b[31m 32'C\u001b[m, \u001b[32m  0 %\u001b[m | \u001b[36m\u001b[1m\u001b[33m24767\u001b[m / \u001b[33m49140\u001b[m MB | \u001b[1m\u001b[30mtaokeda\u001b[m(\u001b[33m24298M\u001b[m)\n",
      "\u001b[36m[2]\u001b[m \u001b[34mNVIDIA RTX A6000\u001b[m |\u001b[31m 34'C\u001b[m, \u001b[32m  0 %\u001b[m | \u001b[36m\u001b[1m\u001b[33m24769\u001b[m / \u001b[33m49140\u001b[m MB | \u001b[1m\u001b[30mtaokeda\u001b[m(\u001b[33m24300M\u001b[m)\n",
      "\u001b[36m[3]\u001b[m \u001b[34mNVIDIA RTX A6000\u001b[m |\u001b[31m 33'C\u001b[m, \u001b[32m  0 %\u001b[m | \u001b[36m\u001b[1m\u001b[33m22949\u001b[m / \u001b[33m49140\u001b[m MB | \u001b[1m\u001b[30mtaokeda\u001b[m(\u001b[33m22480M\u001b[m)\n",
      "\u001b[36m[4]\u001b[m \u001b[34mNVIDIA RTX A6000\u001b[m |\u001b[1m\u001b[31m 69'C\u001b[m, \u001b[1m\u001b[32m 99 %\u001b[m | \u001b[36m\u001b[1m\u001b[33m47321\u001b[m / \u001b[33m49140\u001b[m MB | \u001b[1m\u001b[30mwuxianzu\u001b[m(\u001b[33m46814M\u001b[m)\n",
      "\u001b[36m[5]\u001b[m \u001b[34mNVIDIA RTX A6000\u001b[m |\u001b[1m\u001b[31m 69'C\u001b[m, \u001b[1m\u001b[32m 99 %\u001b[m | \u001b[36m\u001b[1m\u001b[33m45023\u001b[m / \u001b[33m49140\u001b[m MB | \u001b[1m\u001b[30mwuxianzu\u001b[m(\u001b[33m388M\u001b[m) \u001b[1m\u001b[30mwuxianzu\u001b[m(\u001b[33m43708M\u001b[m)\n",
      "\u001b[36m[6]\u001b[m \u001b[34mNVIDIA RTX A6000\u001b[m |\u001b[31m 32'C\u001b[m, \u001b[32m  0 %\u001b[m | \u001b[36m\u001b[1m\u001b[33m22947\u001b[m / \u001b[33m49140\u001b[m MB | \u001b[1m\u001b[30mtaokeda\u001b[m(\u001b[33m22478M\u001b[m)\n",
      "\u001b[36m[7]\u001b[m \u001b[34mNVIDIA RTX A6000\u001b[m |\u001b[1m\u001b[31m 59'C\u001b[m, \u001b[1m\u001b[32m100 %\u001b[m | \u001b[36m\u001b[1m\u001b[33m39524\u001b[m / \u001b[33m49140\u001b[m MB | \u001b[1m\u001b[30mtaokeda\u001b[m(\u001b[33m24008M\u001b[m) \u001b[1m\u001b[30mzhouyufan\u001b[m(\u001b[33m15044M\u001b[m)\n"
     ]
    }
   ],
   "source": [
    "!gpustat"
   ]
  },
  {
   "cell_type": "code",
   "execution_count": 2,
   "metadata": {},
   "outputs": [
    {
     "name": "stderr",
     "output_type": "stream",
     "text": [
      "/home/zhouyufan/miniconda3/envs/Z/lib/python3.10/site-packages/tqdm/auto.py:21: TqdmWarning: IProgress not found. Please update jupyter and ipywidgets. See https://ipywidgets.readthedocs.io/en/stable/user_install.html\n",
      "  from .autonotebook import tqdm as notebook_tqdm\n",
      "Loading pipeline components...: 100%|██████████| 6/6 [00:07<00:00,  1.25s/it]\n",
      "You have disabled the safety checker for <class 'diffusers.pipelines.stable_diffusion.pipeline_stable_diffusion.StableDiffusionPipeline'> by passing `safety_checker=None`. Ensure that you abide to the conditions of the Stable Diffusion license and do not expose unfiltered results in services or applications open to the public. Both the diffusers team and Hugging Face strongly recommend to keep the safety filter enabled in all public facing circumstances, disabling it only for use-cases that involve analyzing network behavior or auditing its results. For more information, please have a look at https://github.com/huggingface/diffusers/pull/254 .\n"
     ]
    }
   ],
   "source": [
    "\n",
    "from pathlib import Path\n",
    "import torch\n",
    "from diffusers import StableDiffusionPipeline\n",
    "from compel import Compel\n",
    "import matplotlib.pyplot as plt\n",
    "from tqdm import tqdm\n",
    "\n",
    "# Constants\n",
    "DEFAULT_MODEL_ID = \"stable-diffusion-v1-5/stable-diffusion-v1-5\"  # 更新为正确的模型ID\n",
    "DEFAULT_GPU = 3\n",
    "\n",
    "# Configuration\n",
    "model_id = DEFAULT_MODEL_ID\n",
    "gpu_idx = DEFAULT_GPU\n",
    "\n",
    "# Setup device and pipeline\n",
    "device = torch.device(f\"cuda:{gpu_idx}\" if torch.cuda.is_available() and gpu_idx >= 0 else \"cpu\")\n",
    "pipeline = StableDiffusionPipeline.from_pretrained(\n",
    "    model_id,\n",
    "    torch_dtype=torch.float16,\n",
    "    safety_checker=None,\n",
    ").to(device)\n",
    "\n",
    "pipeline.set_progress_bar_config(disable=True, leave=True)\n",
    "\n",
    "# Setup Compel\n",
    "compel_proc = Compel(tokenizer=pipeline.tokenizer, text_encoder=pipeline.text_encoder)\n"
   ]
  },
  {
   "cell_type": "code",
   "execution_count": 3,
   "metadata": {},
   "outputs": [],
   "source": [
    "DEFAULT_STEPS = 45\n",
    "DEFAULT_GUIDANCE_SCALE = 4.0\n",
    "class1 = \"ship\"\n",
    "class2 = \"dog\"\n",
    "prompt1 = f\"A photo of a {class1}\"  # 第一个概念\n",
    "prompt2 = f\"A photo of a {class2}\"  # 第二个概念\n",
    "steps = DEFAULT_STEPS\n",
    "guidance_scale = DEFAULT_GUIDANCE_SCALE\n",
    "mixing_ratio = 0.5  # 两个概念的混合比例\n",
    "\n",
    "# Generate embeddings for both prompts\n",
    "embedding1 = compel_proc(prompt1)\n",
    "embedding2 = compel_proc(prompt2)\n",
    "\n",
    "# Mix the embeddings\n",
    "mixed_embedding = embedding1 * mixing_ratio + embedding2 * (1 - mixing_ratio)"
   ]
  },
  {
   "cell_type": "code",
   "execution_count": 4,
   "metadata": {},
   "outputs": [
    {
     "name": "stderr",
     "output_type": "stream",
     "text": [
      "Generating images: 100%|██████████| 30/30 [04:21<00:00,  8.72s/it]\n"
     ]
    }
   ],
   "source": [
    "def get_unique_filename(base_path, base_name, extension):\n",
    "    \"\"\"Get a unique filename by adding a number if the file already exists\"\"\"\n",
    "    counter = 0\n",
    "    while True:\n",
    "        suffix = f\"_{counter}\" if counter > 0 else \"\"\n",
    "        full_path = base_path / f\"{base_name}{suffix}{extension}\"\n",
    "        if not full_path.exists():\n",
    "            return full_path\n",
    "        counter += 1\n",
    "\n",
    "for i in tqdm(range(30), desc=\"Generating images\"):\n",
    "    # Create output directories\n",
    "    output_dir = Path('output')\n",
    "    display_dir = output_dir / 'display'/ f'{class1}_{class2}'\n",
    "    # 修改目录创建列表，为原始图像添加 original 子文件夹\n",
    "    for dir_path in [f'original/{class1}', f'original/{class2}', f'mix/{class1}_{class2}', f'display/{class1}_{class2}']:\n",
    "        (output_dir / dir_path).mkdir(parents=True, exist_ok=True)\n",
    "\n",
    "    image_list = []\n",
    "    # Generate and save images\n",
    "    for embedding, class_name, filename_base in [\n",
    "        (embedding1, f'original/{class1}', f'dog_{steps}steps_{guidance_scale}gs'),\n",
    "        (embedding2, f'original/{class2}', f'airplane_{steps}steps_{guidance_scale}gs'),\n",
    "        (mixed_embedding, f'mix/{class1}_{class2}', \n",
    "        f'dog_airplane_{mixing_ratio}ratio_{steps}steps_{guidance_scale}gs')\n",
    "    ]:\n",
    "        image = pipeline(\n",
    "            prompt_embeds=embedding,\n",
    "            num_inference_steps=steps,\n",
    "            guidance_scale=guidance_scale,\n",
    "        ).images[0]\n",
    "        \n",
    "        save_path = get_unique_filename(output_dir / class_name, filename_base, '.png')\n",
    "        image.save(save_path)\n",
    "        \n",
    "        image_list.append(image)\n",
    "    \n",
    "    # 创建单个图形窗口\n",
    "    fig, axes = plt.subplots(1, 3, figsize=(15, 5))\n",
    "\n",
    "    # Plot settings for each subplot\n",
    "    for idx, (ax, img, title) in enumerate(zip(\n",
    "        axes,\n",
    "        image_list,\n",
    "        [f'Prompt 1:\\n{prompt1}', f'Prompt 2:\\n{prompt2}', f'Mixed\\n({mixing_ratio:.1f} : {1-mixing_ratio:.1f})']\n",
    "    )):\n",
    "        ax.imshow(img)\n",
    "        ax.set_title(title)\n",
    "        ax.axis('off')\n",
    "\n",
    "    plt.tight_layout()\n",
    "\n",
    "    # Save and close the figure\n",
    "    save_path = get_unique_filename(\n",
    "        display_dir, \n",
    "        f'{class1}_{class2}_{mixing_ratio}ratio_{steps}steps_{guidance_scale}gs',\n",
    "        '.png'\n",
    "    )\n",
    "    plt.savefig(save_path, bbox_inches='tight', dpi=300)\n",
    "    plt.close(fig)  # 明确关闭这个图形"
   ]
  }
 ],
 "metadata": {
  "kernelspec": {
   "display_name": "Z",
   "language": "python",
   "name": "python3"
  },
  "language_info": {
   "codemirror_mode": {
    "name": "ipython",
    "version": 3
   },
   "file_extension": ".py",
   "mimetype": "text/x-python",
   "name": "python",
   "nbconvert_exporter": "python",
   "pygments_lexer": "ipython3",
   "version": "3.10.15"
  }
 },
 "nbformat": 4,
 "nbformat_minor": 2
}
